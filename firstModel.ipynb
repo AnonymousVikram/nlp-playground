{
 "cells": [
  {
   "cell_type": "code",
   "execution_count": null,
   "metadata": {},
   "outputs": [
    {
     "ename": "",
     "evalue": "",
     "output_type": "error",
     "traceback": [
      "\u001b[1;31mRunning cells with 'botting' requires ipykernel package.\n",
      "\u001b[1;31mRun the following command to install 'ipykernel' into the Python environment. \n",
      "\u001b[1;31mCommand: 'conda install -n botting ipykernel --update-deps --force-reinstall'"
     ]
    }
   ],
   "source": [
    "!pip install -U spacy[cuda110, transformers, lookups]==3.0.3"
   ]
  }
 ],
 "metadata": {
  "kernelspec": {
   "display_name": "botting",
   "language": "python",
   "name": "python3"
  },
  "language_info": {
   "name": "python",
   "version": "3.9.15 (main, Nov  4 2022, 16:35:55) [MSC v.1916 64 bit (AMD64)]"
  },
  "orig_nbformat": 4,
  "vscode": {
   "interpreter": {
    "hash": "a464c2979e5a7cb34a654671b46c3ba93d0f183c93c5a2e3ee21ccd87626152a"
   }
  }
 },
 "nbformat": 4,
 "nbformat_minor": 2
}
